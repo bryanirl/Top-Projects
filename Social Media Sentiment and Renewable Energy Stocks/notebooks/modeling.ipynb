{
 "cells": [
  {
   "cell_type": "code",
   "execution_count": null,
   "metadata": {},
   "outputs": [],
   "source": []
  }
 ],
 "metadata": {
  "kernelspec": {
   "display_name": "env",
   "language": "python",
   "name": "python3"
  },
  "language_info": {
   "name": "python",
   "version": "3.10.2"
  },
  "orig_nbformat": 4,
  "vscode": {
   "interpreter": {
    "hash": "16992a1327d9005b7eb53faa19c631b0985f0a4032484d2cf3a1db6339c99f41"
   }
  }
 },
 "nbformat": 4,
 "nbformat_minor": 2
}
